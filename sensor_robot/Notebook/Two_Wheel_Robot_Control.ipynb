{
 "cells": [
  {
   "cell_type": "code",
   "execution_count": null,
   "id": "54f6d376",
   "metadata": {},
   "outputs": [],
   "source": [
    "import rospy"
   ]
  },
  {
   "cell_type": "code",
   "execution_count": null,
   "id": "2a9b2acc",
   "metadata": {},
   "outputs": [],
   "source": [
    "from geometry_msgs.msg import Twist\n",
    "from sensor_msgs.msg import Imu\n",
    "from sensor_msgs.msg import JointState\n",
    "from std_msgs.msg import Float64"
   ]
  },
  {
   "cell_type": "code",
   "execution_count": null,
   "id": "702ca1d9",
   "metadata": {},
   "outputs": [],
   "source": [
    "from std_srvs.srv import Empty\n",
    "from gazebo_msgs.srv import SetModelConfiguration\n",
    "from gazebo_msgs.srv import SetLinkState\n",
    "from gazebo_msgs.srv import GetLinkState"
   ]
  },
  {
   "cell_type": "code",
   "execution_count": null,
   "id": "e01892f9",
   "metadata": {
    "scrolled": true
   },
   "outputs": [],
   "source": [
    "pubLeftWheelEffort = rospy.Publisher('/three_wheel_robot/left_wheel_effort_controller/command', Float64, queue_size=1)\n",
    "pubRightWheelEffort = rospy.Publisher('/three_wheel_robot/right_wheel_effort_controller/command', Float64, queue_size=1)"
   ]
  },
  {
   "cell_type": "code",
   "execution_count": null,
   "id": "2c1e0751",
   "metadata": {},
   "outputs": [],
   "source": [
    "def jointstate_callback(data):\n",
    "    pass\n",
    "def imu_callback(data):\n",
    "    pass\n",
    "subscJointStates = rospy.Subscriber('/three_wheel_robot/joint_states', JointState, callback=jointstate_callback)\n",
    "subscIMU = rospy.Subscriber('/imu', Imu, callback=imu_callback)"
   ]
  },
  {
   "cell_type": "code",
   "execution_count": null,
   "id": "c0b55c0d",
   "metadata": {},
   "outputs": [],
   "source": [
    "reset_world = rospy.ServiceProxy('/gazebo/reset_world', Empty)\n",
    "reset_joints = rospy.ServiceProxy('/gazebo/set_model_configuration', SetModelConfiguration)\n",
    "unpause = rospy.ServiceProxy('/gazebo/unpause_physics', Empty)\n",
    "pause = rospy.ServiceProxy('/gazebo/pause_physics', Empty)\n",
    "set_link = rospy.ServiceProxy('/gazebo/set_link_state', SetLinkState)\n",
    "get_link = rospy.ServiceProxy('/gazebo/get_link_state', GetLinkState)"
   ]
  },
  {
   "cell_type": "code",
   "execution_count": null,
   "id": "e6835dcf",
   "metadata": {},
   "outputs": [],
   "source": [
    "rospy.init_node('ME454_three_wheel_robot')\n",
    "rate = rospy.Rate(120)"
   ]
  },
  {
   "cell_type": "code",
   "execution_count": null,
   "id": "bbcfc27b",
   "metadata": {},
   "outputs": [],
   "source": [
    "rospy.wait_for_service('/gazebo/reset_world')\n",
    "try:\n",
    "    reset_world()\n",
    "except (rospy.ServiceException) as e:\n",
    "    print ('reset_world failed!')"
   ]
  },
  {
   "cell_type": "code",
   "execution_count": null,
   "id": "9b04fa7e",
   "metadata": {},
   "outputs": [],
   "source": [
    "rospy.wait_for_service('/gazebo/set_model_configuration')\n",
    "try:\n",
    "    reset_joints(\"balancing_robot\", \"robot_description\", [\"Right_wheel_Joint\", \"Left_wheel_Joint\"], [0.0, 0.0])\n",
    "except (rospy.ServiceException) as e:\n",
    "    print ('/gazebo/reset_joints service call failed')"
   ]
  },
  {
   "cell_type": "code",
   "execution_count": null,
   "id": "1b5192d4",
   "metadata": {},
   "outputs": [],
   "source": [
    "rospy.wait_for_service('/gazebo/pause_physics')\n",
    "try:\n",
    "    pause()\n",
    "except (rospy.ServiceException) as e:\n",
    "    print ('rospause failed!')"
   ]
  },
  {
   "cell_type": "code",
   "execution_count": null,
   "id": "470c9378",
   "metadata": {},
   "outputs": [],
   "source": [
    "rospy.wait_for_service('/gazebo/unpause_physics')\n",
    "try:\n",
    "    unpause()\n",
    "except (rospy.ServiceException) as e:\n",
    "    print (\"/gazebo/pause_physics service call failed\")"
   ]
  },
  {
   "cell_type": "code",
   "execution_count": null,
   "id": "f8149653",
   "metadata": {},
   "outputs": [],
   "source": [
    "rospy.wait_for_service('/gazebo/get_link_state')\n",
    "try:\n",
    "    my_link_state = get_link(\"balancing_robot::base_dummy\", \"world\")\n",
    "except (rospy.ServiceException) as e:\n",
    "    print (\"/gazebo/get_link_state service call failed\")"
   ]
  },
  {
   "cell_type": "code",
   "execution_count": null,
   "id": "4319987a",
   "metadata": {},
   "outputs": [],
   "source": [
    "my_link_state.link_state.pose.position.z = 0.5\n",
    "\n",
    "rospy.wait_for_service('/gazebo/set_link_state')\n",
    "try:\n",
    "    set_link(my_link_state.link_state)\n",
    "except (rospy.ServiceException) as e:\n",
    "    print (\"/gazebo/get_link_state service call failed\")"
   ]
  },
  {
   "cell_type": "code",
   "execution_count": null,
   "id": "fd622c9f",
   "metadata": {},
   "outputs": [],
   "source": [
    "pubLeftWheelEffort.publish(1.0)"
   ]
  },
  {
   "cell_type": "code",
   "execution_count": null,
   "id": "685cac8d",
   "metadata": {},
   "outputs": [],
   "source": []
  }
 ],
 "metadata": {
  "kernelspec": {
   "display_name": "Python 3 (ipykernel)",
   "language": "python",
   "name": "python3"
  },
  "language_info": {
   "codemirror_mode": {
    "name": "ipython",
    "version": 3
   },
   "file_extension": ".py",
   "mimetype": "text/x-python",
   "name": "python",
   "nbconvert_exporter": "python",
   "pygments_lexer": "ipython3",
   "version": "3.8.10"
  }
 },
 "nbformat": 4,
 "nbformat_minor": 5
}
